{
 "cells": [
  {
   "cell_type": "code",
   "execution_count": 117,
   "metadata": {},
   "outputs": [],
   "source": [
    "import pandas as pd\n",
    "import matplotlib as plt\n",
    "import matplotlib.pyplot as plt\n"
   ]
  },
  {
   "cell_type": "code",
   "execution_count": 118,
   "metadata": {},
   "outputs": [],
   "source": [
    "df_games = pd.read_csv('vgchartz-2024.csv')"
   ]
  },
  {
   "cell_type": "code",
   "execution_count": 119,
   "metadata": {},
   "outputs": [
    {
     "data": {
      "text/html": [
       "<div>\n",
       "<style scoped>\n",
       "    .dataframe tbody tr th:only-of-type {\n",
       "        vertical-align: middle;\n",
       "    }\n",
       "\n",
       "    .dataframe tbody tr th {\n",
       "        vertical-align: top;\n",
       "    }\n",
       "\n",
       "    .dataframe thead th {\n",
       "        text-align: right;\n",
       "    }\n",
       "</style>\n",
       "<table border=\"1\" class=\"dataframe\">\n",
       "  <thead>\n",
       "    <tr style=\"text-align: right;\">\n",
       "      <th></th>\n",
       "      <th>img</th>\n",
       "      <th>title</th>\n",
       "      <th>console</th>\n",
       "      <th>genre</th>\n",
       "      <th>publisher</th>\n",
       "      <th>developer</th>\n",
       "      <th>critic_score</th>\n",
       "      <th>total_sales</th>\n",
       "      <th>na_sales</th>\n",
       "      <th>jp_sales</th>\n",
       "      <th>pal_sales</th>\n",
       "      <th>other_sales</th>\n",
       "      <th>release_date</th>\n",
       "      <th>last_update</th>\n",
       "    </tr>\n",
       "  </thead>\n",
       "  <tbody>\n",
       "    <tr>\n",
       "      <th>0</th>\n",
       "      <td>/games/boxart/full_6510540AmericaFrontccc.jpg</td>\n",
       "      <td>Grand Theft Auto V</td>\n",
       "      <td>PS3</td>\n",
       "      <td>Action</td>\n",
       "      <td>Rockstar Games</td>\n",
       "      <td>Rockstar North</td>\n",
       "      <td>9.4</td>\n",
       "      <td>20.32</td>\n",
       "      <td>6.37</td>\n",
       "      <td>0.99</td>\n",
       "      <td>9.85</td>\n",
       "      <td>3.12</td>\n",
       "      <td>2013-09-17</td>\n",
       "      <td>NaN</td>\n",
       "    </tr>\n",
       "    <tr>\n",
       "      <th>1</th>\n",
       "      <td>/games/boxart/full_5563178AmericaFrontccc.jpg</td>\n",
       "      <td>Grand Theft Auto V</td>\n",
       "      <td>PS4</td>\n",
       "      <td>Action</td>\n",
       "      <td>Rockstar Games</td>\n",
       "      <td>Rockstar North</td>\n",
       "      <td>9.7</td>\n",
       "      <td>19.39</td>\n",
       "      <td>6.06</td>\n",
       "      <td>0.60</td>\n",
       "      <td>9.71</td>\n",
       "      <td>3.02</td>\n",
       "      <td>2014-11-18</td>\n",
       "      <td>2018-01-03</td>\n",
       "    </tr>\n",
       "  </tbody>\n",
       "</table>\n",
       "</div>"
      ],
      "text/plain": [
       "                                             img               title console  \\\n",
       "0  /games/boxart/full_6510540AmericaFrontccc.jpg  Grand Theft Auto V     PS3   \n",
       "1  /games/boxart/full_5563178AmericaFrontccc.jpg  Grand Theft Auto V     PS4   \n",
       "\n",
       "    genre       publisher       developer  critic_score  total_sales  \\\n",
       "0  Action  Rockstar Games  Rockstar North           9.4        20.32   \n",
       "1  Action  Rockstar Games  Rockstar North           9.7        19.39   \n",
       "\n",
       "   na_sales  jp_sales  pal_sales  other_sales release_date last_update  \n",
       "0      6.37      0.99       9.85         3.12   2013-09-17         NaN  \n",
       "1      6.06      0.60       9.71         3.02   2014-11-18  2018-01-03  "
      ]
     },
     "execution_count": 119,
     "metadata": {},
     "output_type": "execute_result"
    }
   ],
   "source": [
    "df_games.head(2)"
   ]
  },
  {
   "cell_type": "code",
   "execution_count": 120,
   "metadata": {},
   "outputs": [
    {
     "data": {
      "text/plain": [
       "(64016, 14)"
      ]
     },
     "execution_count": 120,
     "metadata": {},
     "output_type": "execute_result"
    }
   ],
   "source": [
    "df_games.shape"
   ]
  },
  {
   "cell_type": "code",
   "execution_count": 121,
   "metadata": {},
   "outputs": [
    {
     "data": {
      "text/plain": [
       "img              object\n",
       "title            object\n",
       "console          object\n",
       "genre            object\n",
       "publisher        object\n",
       "developer        object\n",
       "critic_score    float64\n",
       "total_sales     float64\n",
       "na_sales        float64\n",
       "jp_sales        float64\n",
       "pal_sales       float64\n",
       "other_sales     float64\n",
       "release_date     object\n",
       "last_update      object\n",
       "dtype: object"
      ]
     },
     "execution_count": 121,
     "metadata": {},
     "output_type": "execute_result"
    }
   ],
   "source": [
    "df_games.dtypes"
   ]
  },
  {
   "cell_type": "code",
   "execution_count": 122,
   "metadata": {},
   "outputs": [
    {
     "data": {
      "text/plain": [
       "0       2013-09-17\n",
       "1       2014-11-18\n",
       "2       2002-10-28\n",
       "3       2013-09-17\n",
       "4       2015-11-06\n",
       "           ...    \n",
       "64011   2016-08-11\n",
       "64012   2020-07-30\n",
       "64013   2020-07-30\n",
       "64014   2019-02-28\n",
       "64015          NaT\n",
       "Name: release_date, Length: 64016, dtype: datetime64[ns]"
      ]
     },
     "execution_count": 122,
     "metadata": {},
     "output_type": "execute_result"
    }
   ],
   "source": [
    "pd.to_datetime(df_games['release_date'])"
   ]
  },
  {
   "cell_type": "code",
   "execution_count": 123,
   "metadata": {},
   "outputs": [
    {
     "data": {
      "text/plain": [
       "0              NaT\n",
       "1       2018-01-03\n",
       "2              NaT\n",
       "3              NaT\n",
       "4       2018-01-14\n",
       "           ...    \n",
       "64011   2019-01-28\n",
       "64012   2020-05-09\n",
       "64013   2020-05-09\n",
       "64014   2019-02-24\n",
       "64015   2023-09-29\n",
       "Name: last_update, Length: 64016, dtype: datetime64[ns]"
      ]
     },
     "execution_count": 123,
     "metadata": {},
     "output_type": "execute_result"
    }
   ],
   "source": [
    "pd.to_datetime(df_games['last_update'])"
   ]
  },
  {
   "cell_type": "code",
   "execution_count": 124,
   "metadata": {},
   "outputs": [
    {
     "data": {
      "text/plain": [
       "array(['Action', 'Shooter', 'Action-Adventure', 'Sports', 'Role-Playing',\n",
       "       'Simulation', 'Racing', 'Music', 'Misc', 'Fighting', 'Platform',\n",
       "       'Adventure', 'Strategy', 'Puzzle', 'MMO', 'Sandbox', 'Party',\n",
       "       'Education', 'Board Game', 'Visual Novel'], dtype=object)"
      ]
     },
     "execution_count": 124,
     "metadata": {},
     "output_type": "execute_result"
    }
   ],
   "source": [
    "df_games['genre'].unique()"
   ]
  },
  {
   "cell_type": "code",
   "execution_count": 125,
   "metadata": {},
   "outputs": [
    {
     "data": {
      "text/plain": [
       "dtype('O')"
      ]
     },
     "execution_count": 125,
     "metadata": {},
     "output_type": "execute_result"
    }
   ],
   "source": [
    "df_games['release_date'].dtypes"
   ]
  },
  {
   "cell_type": "code",
   "execution_count": 126,
   "metadata": {},
   "outputs": [
    {
     "data": {
      "text/html": [
       "<div>\n",
       "<style scoped>\n",
       "    .dataframe tbody tr th:only-of-type {\n",
       "        vertical-align: middle;\n",
       "    }\n",
       "\n",
       "    .dataframe tbody tr th {\n",
       "        vertical-align: top;\n",
       "    }\n",
       "\n",
       "    .dataframe thead th {\n",
       "        text-align: right;\n",
       "    }\n",
       "</style>\n",
       "<table border=\"1\" class=\"dataframe\">\n",
       "  <thead>\n",
       "    <tr style=\"text-align: right;\">\n",
       "      <th></th>\n",
       "      <th>img</th>\n",
       "      <th>title</th>\n",
       "      <th>console</th>\n",
       "      <th>genre</th>\n",
       "      <th>publisher</th>\n",
       "      <th>developer</th>\n",
       "      <th>critic_score</th>\n",
       "      <th>total_sales</th>\n",
       "      <th>na_sales</th>\n",
       "      <th>jp_sales</th>\n",
       "      <th>pal_sales</th>\n",
       "      <th>other_sales</th>\n",
       "      <th>release_date</th>\n",
       "      <th>last_update</th>\n",
       "    </tr>\n",
       "  </thead>\n",
       "  <tbody>\n",
       "    <tr>\n",
       "      <th>13253</th>\n",
       "      <td>/games/boxart/full_521792AmericaFrontccc.jpg</td>\n",
       "      <td>The Technomancer</td>\n",
       "      <td>XOne</td>\n",
       "      <td>Role-Playing</td>\n",
       "      <td>Focus Home Interactive</td>\n",
       "      <td>Spiders</td>\n",
       "      <td>NaN</td>\n",
       "      <td>0.05</td>\n",
       "      <td>0.03</td>\n",
       "      <td>NaN</td>\n",
       "      <td>0.02</td>\n",
       "      <td>0.00</td>\n",
       "      <td>2016-06-28</td>\n",
       "      <td>2018-06-27</td>\n",
       "    </tr>\n",
       "    <tr>\n",
       "      <th>13818</th>\n",
       "      <td>/games/boxart/1637825ccc.jpg</td>\n",
       "      <td>Rogue Trooper</td>\n",
       "      <td>PS2</td>\n",
       "      <td>Shooter</td>\n",
       "      <td>Eidos Interactive</td>\n",
       "      <td>Rebellion Developments</td>\n",
       "      <td>NaN</td>\n",
       "      <td>0.04</td>\n",
       "      <td>0.02</td>\n",
       "      <td>NaN</td>\n",
       "      <td>0.02</td>\n",
       "      <td>0.01</td>\n",
       "      <td>2006-05-23</td>\n",
       "      <td>NaN</td>\n",
       "    </tr>\n",
       "    <tr>\n",
       "      <th>31881</th>\n",
       "      <td>/games/boxart/full_7357356AmericaFrontccc.png</td>\n",
       "      <td>ACA NEOGEO THE KING OF FIGHTERS '95</td>\n",
       "      <td>NS</td>\n",
       "      <td>Fighting</td>\n",
       "      <td>Hamster Corporation</td>\n",
       "      <td>SNK Corporation</td>\n",
       "      <td>NaN</td>\n",
       "      <td>NaN</td>\n",
       "      <td>NaN</td>\n",
       "      <td>NaN</td>\n",
       "      <td>NaN</td>\n",
       "      <td>NaN</td>\n",
       "      <td>2017-10-12</td>\n",
       "      <td>2018-04-02</td>\n",
       "    </tr>\n",
       "    <tr>\n",
       "      <th>18841</th>\n",
       "      <td>/games/boxart/full_7073967AmericaFrontccc.png</td>\n",
       "      <td>Pokémon Rumble U</td>\n",
       "      <td>WiiU</td>\n",
       "      <td>Action</td>\n",
       "      <td>Nintendo</td>\n",
       "      <td>Ambrella</td>\n",
       "      <td>5.7</td>\n",
       "      <td>0.00</td>\n",
       "      <td>NaN</td>\n",
       "      <td>NaN</td>\n",
       "      <td>0.00</td>\n",
       "      <td>0.00</td>\n",
       "      <td>2013-08-29</td>\n",
       "      <td>2018-08-03</td>\n",
       "    </tr>\n",
       "    <tr>\n",
       "      <th>36721</th>\n",
       "      <td>/games/boxart/default.jpg</td>\n",
       "      <td>Pet Rescue Saga</td>\n",
       "      <td>BRW</td>\n",
       "      <td>Misc</td>\n",
       "      <td>King.com</td>\n",
       "      <td>Unknown</td>\n",
       "      <td>NaN</td>\n",
       "      <td>NaN</td>\n",
       "      <td>NaN</td>\n",
       "      <td>NaN</td>\n",
       "      <td>NaN</td>\n",
       "      <td>NaN</td>\n",
       "      <td>2012-10-09</td>\n",
       "      <td>NaN</td>\n",
       "    </tr>\n",
       "  </tbody>\n",
       "</table>\n",
       "</div>"
      ],
      "text/plain": [
       "                                                 img  \\\n",
       "13253   /games/boxart/full_521792AmericaFrontccc.jpg   \n",
       "13818                   /games/boxart/1637825ccc.jpg   \n",
       "31881  /games/boxart/full_7357356AmericaFrontccc.png   \n",
       "18841  /games/boxart/full_7073967AmericaFrontccc.png   \n",
       "36721                      /games/boxart/default.jpg   \n",
       "\n",
       "                                     title console         genre  \\\n",
       "13253                     The Technomancer    XOne  Role-Playing   \n",
       "13818                        Rogue Trooper     PS2       Shooter   \n",
       "31881  ACA NEOGEO THE KING OF FIGHTERS '95      NS      Fighting   \n",
       "18841                     Pokémon Rumble U    WiiU        Action   \n",
       "36721                      Pet Rescue Saga     BRW          Misc   \n",
       "\n",
       "                    publisher               developer  critic_score  \\\n",
       "13253  Focus Home Interactive                 Spiders           NaN   \n",
       "13818       Eidos Interactive  Rebellion Developments           NaN   \n",
       "31881     Hamster Corporation         SNK Corporation           NaN   \n",
       "18841                Nintendo                Ambrella           5.7   \n",
       "36721                King.com                 Unknown           NaN   \n",
       "\n",
       "       total_sales  na_sales  jp_sales  pal_sales  other_sales release_date  \\\n",
       "13253         0.05      0.03       NaN       0.02         0.00   2016-06-28   \n",
       "13818         0.04      0.02       NaN       0.02         0.01   2006-05-23   \n",
       "31881          NaN       NaN       NaN        NaN          NaN   2017-10-12   \n",
       "18841         0.00       NaN       NaN       0.00         0.00   2013-08-29   \n",
       "36721          NaN       NaN       NaN        NaN          NaN   2012-10-09   \n",
       "\n",
       "      last_update  \n",
       "13253  2018-06-27  \n",
       "13818         NaN  \n",
       "31881  2018-04-02  \n",
       "18841  2018-08-03  \n",
       "36721         NaN  "
      ]
     },
     "execution_count": 126,
     "metadata": {},
     "output_type": "execute_result"
    }
   ],
   "source": [
    "df_games.sample(5)"
   ]
  },
  {
   "cell_type": "code",
   "execution_count": 127,
   "metadata": {},
   "outputs": [
    {
     "data": {
      "text/plain": [
       "img              object\n",
       "title            object\n",
       "console          object\n",
       "genre            object\n",
       "publisher        object\n",
       "developer        object\n",
       "critic_score    float64\n",
       "total_sales     float64\n",
       "na_sales        float64\n",
       "jp_sales        float64\n",
       "pal_sales       float64\n",
       "other_sales     float64\n",
       "release_date     object\n",
       "last_update      object\n",
       "dtype: object"
      ]
     },
     "execution_count": 127,
     "metadata": {},
     "output_type": "execute_result"
    }
   ],
   "source": [
    "df_games.dtypes"
   ]
  },
  {
   "cell_type": "code",
   "execution_count": 128,
   "metadata": {},
   "outputs": [],
   "source": [
    "df_games['release_date'] = pd.to_datetime(df_games['release_date'])"
   ]
  },
  {
   "cell_type": "code",
   "execution_count": 129,
   "metadata": {},
   "outputs": [
    {
     "data": {
      "text/plain": [
       "img                     object\n",
       "title                   object\n",
       "console                 object\n",
       "genre                   object\n",
       "publisher               object\n",
       "developer               object\n",
       "critic_score           float64\n",
       "total_sales            float64\n",
       "na_sales               float64\n",
       "jp_sales               float64\n",
       "pal_sales              float64\n",
       "other_sales            float64\n",
       "release_date    datetime64[ns]\n",
       "last_update             object\n",
       "dtype: object"
      ]
     },
     "execution_count": 129,
     "metadata": {},
     "output_type": "execute_result"
    }
   ],
   "source": [
    "df_games.dtypes"
   ]
  },
  {
   "cell_type": "code",
   "execution_count": 130,
   "metadata": {},
   "outputs": [],
   "source": [
    "df_games['last_update'] = pd.to_datetime(df_games['last_update'])"
   ]
  },
  {
   "cell_type": "code",
   "execution_count": 131,
   "metadata": {},
   "outputs": [],
   "source": [
    "df_games['release_year'] = df_games['release_date'].dt.year"
   ]
  },
  {
   "cell_type": "code",
   "execution_count": 132,
   "metadata": {},
   "outputs": [
    {
     "data": {
      "text/html": [
       "<div>\n",
       "<style scoped>\n",
       "    .dataframe tbody tr th:only-of-type {\n",
       "        vertical-align: middle;\n",
       "    }\n",
       "\n",
       "    .dataframe tbody tr th {\n",
       "        vertical-align: top;\n",
       "    }\n",
       "\n",
       "    .dataframe thead th {\n",
       "        text-align: right;\n",
       "    }\n",
       "</style>\n",
       "<table border=\"1\" class=\"dataframe\">\n",
       "  <thead>\n",
       "    <tr style=\"text-align: right;\">\n",
       "      <th></th>\n",
       "      <th>img</th>\n",
       "      <th>title</th>\n",
       "      <th>console</th>\n",
       "      <th>genre</th>\n",
       "      <th>publisher</th>\n",
       "      <th>developer</th>\n",
       "      <th>critic_score</th>\n",
       "      <th>total_sales</th>\n",
       "      <th>na_sales</th>\n",
       "      <th>jp_sales</th>\n",
       "      <th>pal_sales</th>\n",
       "      <th>other_sales</th>\n",
       "      <th>release_date</th>\n",
       "      <th>last_update</th>\n",
       "      <th>release_year</th>\n",
       "    </tr>\n",
       "  </thead>\n",
       "  <tbody>\n",
       "    <tr>\n",
       "      <th>22749</th>\n",
       "      <td>/games/boxart/full_346374PALFrontccc.jpg</td>\n",
       "      <td>The Magic Roundabout</td>\n",
       "      <td>Wii</td>\n",
       "      <td>Action</td>\n",
       "      <td>Deep Silver</td>\n",
       "      <td>Deep Silver</td>\n",
       "      <td>NaN</td>\n",
       "      <td>NaN</td>\n",
       "      <td>NaN</td>\n",
       "      <td>NaN</td>\n",
       "      <td>NaN</td>\n",
       "      <td>NaN</td>\n",
       "      <td>2008-12-12</td>\n",
       "      <td>NaT</td>\n",
       "      <td>2008.0</td>\n",
       "    </tr>\n",
       "    <tr>\n",
       "      <th>34936</th>\n",
       "      <td>/games/boxart/full_1598564AmericaFrontccc.png</td>\n",
       "      <td>Hearthstone: Heroes of Warcraft</td>\n",
       "      <td>PC</td>\n",
       "      <td>Misc</td>\n",
       "      <td>Blizzard Entertainment</td>\n",
       "      <td>Unknown</td>\n",
       "      <td>NaN</td>\n",
       "      <td>NaN</td>\n",
       "      <td>NaN</td>\n",
       "      <td>NaN</td>\n",
       "      <td>NaN</td>\n",
       "      <td>NaN</td>\n",
       "      <td>2020-12-31</td>\n",
       "      <td>NaT</td>\n",
       "      <td>2020.0</td>\n",
       "    </tr>\n",
       "    <tr>\n",
       "      <th>22204</th>\n",
       "      <td>/games/boxart/full_4060508AmericaFrontccc.jpg</td>\n",
       "      <td>Shadow Man</td>\n",
       "      <td>DC</td>\n",
       "      <td>Action</td>\n",
       "      <td>Acclaim Entertainment</td>\n",
       "      <td>Acclaim Studios Teesside</td>\n",
       "      <td>8.2</td>\n",
       "      <td>NaN</td>\n",
       "      <td>NaN</td>\n",
       "      <td>NaN</td>\n",
       "      <td>NaN</td>\n",
       "      <td>NaN</td>\n",
       "      <td>1999-11-30</td>\n",
       "      <td>2018-10-08</td>\n",
       "      <td>1999.0</td>\n",
       "    </tr>\n",
       "  </tbody>\n",
       "</table>\n",
       "</div>"
      ],
      "text/plain": [
       "                                                 img  \\\n",
       "22749       /games/boxart/full_346374PALFrontccc.jpg   \n",
       "34936  /games/boxart/full_1598564AmericaFrontccc.png   \n",
       "22204  /games/boxart/full_4060508AmericaFrontccc.jpg   \n",
       "\n",
       "                                 title console   genre  \\\n",
       "22749             The Magic Roundabout     Wii  Action   \n",
       "34936  Hearthstone: Heroes of Warcraft      PC    Misc   \n",
       "22204                       Shadow Man      DC  Action   \n",
       "\n",
       "                    publisher                 developer  critic_score  \\\n",
       "22749             Deep Silver               Deep Silver           NaN   \n",
       "34936  Blizzard Entertainment                   Unknown           NaN   \n",
       "22204   Acclaim Entertainment  Acclaim Studios Teesside           8.2   \n",
       "\n",
       "       total_sales  na_sales  jp_sales  pal_sales  other_sales release_date  \\\n",
       "22749          NaN       NaN       NaN        NaN          NaN   2008-12-12   \n",
       "34936          NaN       NaN       NaN        NaN          NaN   2020-12-31   \n",
       "22204          NaN       NaN       NaN        NaN          NaN   1999-11-30   \n",
       "\n",
       "      last_update  release_year  \n",
       "22749         NaT        2008.0  \n",
       "34936         NaT        2020.0  \n",
       "22204  2018-10-08        1999.0  "
      ]
     },
     "execution_count": 132,
     "metadata": {},
     "output_type": "execute_result"
    }
   ],
   "source": [
    "df_games.sample(3)"
   ]
  },
  {
   "cell_type": "code",
   "execution_count": 133,
   "metadata": {},
   "outputs": [],
   "source": [
    "df_games['release_year'] = df_games['release_year'].astype('Int64')"
   ]
  },
  {
   "cell_type": "code",
   "execution_count": 134,
   "metadata": {},
   "outputs": [
    {
     "data": {
      "text/plain": [
       "img                     object\n",
       "title                   object\n",
       "console                 object\n",
       "genre                   object\n",
       "publisher               object\n",
       "developer               object\n",
       "critic_score           float64\n",
       "total_sales            float64\n",
       "na_sales               float64\n",
       "jp_sales               float64\n",
       "pal_sales              float64\n",
       "other_sales            float64\n",
       "release_date    datetime64[ns]\n",
       "last_update     datetime64[ns]\n",
       "release_year             Int64\n",
       "dtype: object"
      ]
     },
     "execution_count": 134,
     "metadata": {},
     "output_type": "execute_result"
    }
   ],
   "source": [
    "df_games.dtypes"
   ]
  },
  {
   "cell_type": "code",
   "execution_count": 135,
   "metadata": {},
   "outputs": [
    {
     "data": {
      "text/plain": [
       "img                 0\n",
       "title               0\n",
       "console             0\n",
       "genre               0\n",
       "publisher           0\n",
       "developer          17\n",
       "critic_score    57338\n",
       "total_sales     45094\n",
       "na_sales        51379\n",
       "jp_sales        57290\n",
       "pal_sales       51192\n",
       "other_sales     48888\n",
       "release_date     7051\n",
       "last_update     46137\n",
       "release_year     7051\n",
       "dtype: int64"
      ]
     },
     "execution_count": 135,
     "metadata": {},
     "output_type": "execute_result"
    }
   ],
   "source": [
    "df_games.isnull().sum()"
   ]
  },
  {
   "cell_type": "code",
   "execution_count": 136,
   "metadata": {},
   "outputs": [],
   "source": [
    "df_games_genre = df_games.groupby('genre')['critic_score'].mean()"
   ]
  },
  {
   "cell_type": "code",
   "execution_count": 137,
   "metadata": {},
   "outputs": [
    {
     "data": {
      "text/plain": [
       "genre\n",
       "Action     6.831008\n",
       "Music      7.992593\n",
       "Sandbox    9.200000\n",
       "Name: critic_score, dtype: float64"
      ]
     },
     "execution_count": 137,
     "metadata": {},
     "output_type": "execute_result"
    }
   ],
   "source": [
    "df_games_genre.sample(3)"
   ]
  },
  {
   "cell_type": "code",
   "execution_count": 138,
   "metadata": {},
   "outputs": [],
   "source": [
    "df_games['critic_score'] = df_games['critic_score'].fillna(df_games['critic_score'].mean())"
   ]
  },
  {
   "cell_type": "code",
   "execution_count": 139,
   "metadata": {},
   "outputs": [
    {
     "data": {
      "text/plain": [
       "img                 0\n",
       "title               0\n",
       "console             0\n",
       "genre               0\n",
       "publisher           0\n",
       "developer          17\n",
       "critic_score        0\n",
       "total_sales     45094\n",
       "na_sales        51379\n",
       "jp_sales        57290\n",
       "pal_sales       51192\n",
       "other_sales     48888\n",
       "release_date     7051\n",
       "last_update     46137\n",
       "release_year     7051\n",
       "dtype: int64"
      ]
     },
     "execution_count": 139,
     "metadata": {},
     "output_type": "execute_result"
    }
   ],
   "source": [
    "df_games.isnull().sum()"
   ]
  },
  {
   "cell_type": "code",
   "execution_count": null,
   "metadata": {},
   "outputs": [],
   "source": [
    "df_games['na_sales'] = df_games['na_sales'].fillna(df_games['na_sales'].mean())"
   ]
  },
  {
   "cell_type": "code",
   "execution_count": null,
   "metadata": {},
   "outputs": [],
   "source": [
    "df_games.sample(4)"
   ]
  },
  {
   "cell_type": "code",
   "execution_count": null,
   "metadata": {},
   "outputs": [],
   "source": [
    "df_games[['jp_sales','pal_sales','other_sales']] = df_games[['jp_sales','pal_sales','other_sales']].fillna({'jp_sales':df_games['jp_sales'].mean(),\n",
    "                                                         'pal_sales':df_games['pal_sales'].mean(),\n",
    "                                                         'other_sales':df_games['other_sales'].mean()})"
   ]
  },
  {
   "cell_type": "code",
   "execution_count": null,
   "metadata": {},
   "outputs": [],
   "source": [
    "df_games.isnull().sum()"
   ]
  },
  {
   "cell_type": "code",
   "execution_count": null,
   "metadata": {},
   "outputs": [],
   "source": [
    "df_games.dropna(subset=['release_date'],inplace=True)"
   ]
  },
  {
   "cell_type": "code",
   "execution_count": null,
   "metadata": {},
   "outputs": [],
   "source": [
    "df_games.isnull().sum()"
   ]
  },
  {
   "cell_type": "code",
   "execution_count": null,
   "metadata": {},
   "outputs": [],
   "source": [
    "df_games['developer'].unique()"
   ]
  },
  {
   "cell_type": "code",
   "execution_count": null,
   "metadata": {},
   "outputs": [],
   "source": [
    "df_games['update_release']= df_games['last_update']-df_games['release_date']"
   ]
  },
  {
   "cell_type": "code",
   "execution_count": null,
   "metadata": {},
   "outputs": [],
   "source": [
    "df_games.sample(3)"
   ]
  },
  {
   "cell_type": "code",
   "execution_count": null,
   "metadata": {},
   "outputs": [],
   "source": [
    "df_games.groupby(['release_year','genre'])['total_sales'].sum().nlargest(5)"
   ]
  },
  {
   "cell_type": "code",
   "execution_count": null,
   "metadata": {},
   "outputs": [],
   "source": [
    "round (df_games.groupby('')['total_sales'].sum(),2)"
   ]
  },
  {
   "cell_type": "code",
   "execution_count": null,
   "metadata": {},
   "outputs": [],
   "source": [
    "df_games['genre'].unique()"
   ]
  },
  {
   "cell_type": "code",
   "execution_count": 143,
   "metadata": {},
   "outputs": [
    {
     "data": {
      "image/png": "[encoded data removed]",
      "text/plain": [
       "<Figure size 640x480 with 1 Axes>"
      ]
     },
     "metadata": {},
     "output_type": "display_data"
    }
   ],
   "source": [
    "df_games.groupby('genre')['total_sales'].sum().nlargest(5).plot.barh();"
   ]
  },
  {
   "cell_type": "code",
   "execution_count": 145,
   "metadata": {},
   "outputs": [],
   "source": [
    "plt.style.use('dark_background')"
   ]
  },
  {
   "cell_type": "code",
   "execution_count": 148,
   "metadata": {},
   "outputs": [
    {
     "data": {
      "image/png": "[encoded data removed]",
      "text/plain": [
       "<Figure size 1000x600 with 1 Axes>"
      ]
     },
     "metadata": {},
     "output_type": "display_data"
    }
   ],
   "source": [
    "df_games.groupby('genre')['total_sales'].sum().nlargest(5).sort_values(ascending=True).plot.barh(\n",
    "    title=\"Top 5 Gêneros por Vendas Totais\", figsize=(10, 6));\n",
    "plt.xlabel(\"Vendas Totais (em milhões)\")\n",
    "plt.ylabel(\"Gêneros\")\n",
    "plt.grid(axis='x', linestyle='--', alpha=0.7)"
   ]
  },
  {
   "cell_type": "code",
   "execution_count": null,
   "metadata": {},
   "outputs": [],
   "source": []
  }
 ],
 "metadata": {
  "kernelspec": {
   "display_name": "venv",
   "language": "python",
   "name": "python3"
  },
  "language_info": {
   "codemirror_mode": {
    "name": "ipython",
    "version": 3
   },
   "file_extension": ".py",
   "mimetype": "text/x-python",
   "name": "python",
   "nbconvert_exporter": "python",
   "pygments_lexer": "ipython3",
   "version": "3.10.12"
  }
 },
 "nbformat": 4,
 "nbformat_minor": 2
}
